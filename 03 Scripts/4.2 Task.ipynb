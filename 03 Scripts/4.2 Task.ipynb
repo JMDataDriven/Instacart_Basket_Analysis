{
 "cells": [
  {
   "cell_type": "markdown",
   "id": "6b4feb64-807b-43b7-aafd-28621e5bb8b0",
   "metadata": {},
   "source": [
    "# Importing Libraries"
   ]
  },
  {
   "cell_type": "code",
   "execution_count": 1,
   "id": "0caac1d5-95bb-4384-95b7-0f00628a9b4e",
   "metadata": {},
   "outputs": [],
   "source": [
    "# Import Libraries\n",
    "import pandas as pd\n",
    "import numpy as np\n",
    "import os"
   ]
  },
  {
   "cell_type": "markdown",
   "id": "4e92d9f8-c01f-4949-8b43-5193dc462c5e",
   "metadata": {},
   "source": [
    "# Data Types"
   ]
  },
  {
   "cell_type": "code",
   "execution_count": 17,
   "id": "d5bd39da-a3a5-4e46-9991-eab16c0ce238",
   "metadata": {},
   "outputs": [
    {
     "name": "stdout",
     "output_type": "stream",
     "text": [
      "100\n"
     ]
    }
   ],
   "source": [
    "# Code 3 different ways of reaching a result of 100 by adding or subtracting \n",
    "x = 60\n",
    "y = 40\n",
    "print(x+y)"
   ]
  },
  {
   "cell_type": "code",
   "execution_count": 9,
   "id": "01acf7f5-77dd-4455-89a0-834d99ef53b0",
   "metadata": {},
   "outputs": [
    {
     "name": "stdout",
     "output_type": "stream",
     "text": [
      "100\n"
     ]
    }
   ],
   "source": [
    "a = 50\n",
    "print(a + a)"
   ]
  },
  {
   "cell_type": "code",
   "execution_count": 19,
   "id": "f64fbb59-f1a2-482f-be73-403a1d46d639",
   "metadata": {},
   "outputs": [
    {
     "name": "stdout",
     "output_type": "stream",
     "text": [
      "100\n"
     ]
    }
   ],
   "source": [
    "b=140\n",
    "print(b - y)"
   ]
  },
  {
   "cell_type": "code",
   "execution_count": 23,
   "id": "a0b1e305-12ac-4b2c-9b4b-18bd8e15f4a6",
   "metadata": {},
   "outputs": [
    {
     "name": "stdout",
     "output_type": "stream",
     "text": [
      "2.0044345898004434\n"
     ]
    }
   ],
   "source": [
    "# Code 2 floating-point variables and divide them by each other\n",
    "x=18.08\n",
    "y=9.02\n",
    "print(x / y)"
   ]
  },
  {
   "cell_type": "code",
   "execution_count": 33,
   "id": "cd1a9544-9ffa-4051-a75c-e86ce156e6c9",
   "metadata": {},
   "outputs": [
    {
     "name": "stdout",
     "output_type": "stream",
     "text": [
      "Set Sail\n"
     ]
    }
   ],
   "source": [
    "# Construct a short word made of separate strings\n",
    "a = 'Set'\n",
    "b = 'Sail' \n",
    "c= a + \" \" + b\n",
    "print(c)"
   ]
  },
  {
   "cell_type": "code",
   "execution_count": 45,
   "id": "45b0aaa9-19d0-40d8-a775-eea3bf6c1c29",
   "metadata": {},
   "outputs": [
    {
     "name": "stdout",
     "output_type": "stream",
     "text": [
      "['I love to travel and explore', 'Traveling is not only relaxing but it also soothes my soul.']\n"
     ]
    }
   ],
   "source": [
    "# Construct 2 short sentences made of separate strings \n",
    "text = 'I love to travel and explore. Traveling is not only relaxing but it also soothes my soul.'\n",
    "sentences = text.split('. ')\n",
    "print(sentences)"
   ]
  },
  {
   "cell_type": "markdown",
   "id": "4abc85aa-27da-4ef3-8549-8982ac515235",
   "metadata": {},
   "source": [
    "# Bonus Task "
   ]
  },
  {
   "cell_type": "code",
   "execution_count": 50,
   "id": "c675adc8-3657-4c81-a2a2-6b3717c7f1c4",
   "metadata": {},
   "outputs": [
    {
     "data": {
      "text/plain": [
       "'PalmtreesPalmtreesPalmtreesPalmtreesPalmtreesPalmtreesPalmtreesPalmtreesPalmtreesPalmtreesPalmtreesPalmtreesPalmtreesPalmtreesPalmtreesPalmtreesPalmtreesPalmtreesPalmtreesPalmtreesPalmtreesPalmtreesPalmtreesPalmtreesPalmtreesPalmtreesPalmtreesPalmtreesPalmtreesPalmtreesPalmtreesPalmtreesPalmtreesPalmtreesPalmtreesPalmtreesPalmtreesPalmtreesPalmtreesPalmtreesPalmtreesPalmtreesPalmtreesPalmtreesPalmtreesPalmtreesPalmtreesPalmtreesPalmtreesPalmtreesPalmtreesPalmtreesPalmtreesPalmtreesPalmtreesPalmtreesPalmtreesPalmtreesPalmtreesPalmtreesPalmtreesPalmtreesPalmtreesPalmtreesPalmtreesPalmtreesPalmtreesPalmtreesPalmtreesPalmtreesPalmtreesPalmtreesPalmtreesPalmtreesPalmtreesPalmtreesPalmtreesPalmtreesPalmtreesPalmtreesPalmtreesPalmtreesPalmtreesPalmtreesPalmtreesPalmtreesPalmtreesPalmtreesPalmtreesPalmtreesPalmtreesPalmtreesPalmtreesPalmtreesPalmtreesPalmtreesPalmtreesPalmtreesPalmtreesPalmtrees'"
      ]
     },
     "execution_count": 50,
     "metadata": {},
     "output_type": "execute_result"
    }
   ],
   "source": [
    "# Include a command that makes a string appear 100 times \n",
    "x = 'Palmtrees'\n",
    "x * 100"
   ]
  }
 ],
 "metadata": {
  "kernelspec": {
   "display_name": "Python 3 (ipykernel)",
   "language": "python",
   "name": "python3"
  },
  "language_info": {
   "codemirror_mode": {
    "name": "ipython",
    "version": 3
   },
   "file_extension": ".py",
   "mimetype": "text/x-python",
   "name": "python",
   "nbconvert_exporter": "python",
   "pygments_lexer": "ipython3",
   "version": "3.11.7"
  }
 },
 "nbformat": 4,
 "nbformat_minor": 5
}
