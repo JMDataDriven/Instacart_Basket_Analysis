{
 "cells": [
  {
   "cell_type": "markdown",
   "id": "c7b2b459-933d-4e6e-8050-67666d017106",
   "metadata": {},
   "source": [
    "# Import libraries and newly merged dataset "
   ]
  },
  {
   "cell_type": "code",
   "execution_count": 2,
   "id": "c27e31ba-ccff-4e93-ac6f-685758d475b0",
   "metadata": {},
   "outputs": [],
   "source": [
    "# Import Libraries \n",
    "import pandas as pd \n",
    "import numpy as np \n",
    "import os \n",
    "import matplotlib.pyplot as plt \n",
    "import seaborn as sns \n",
    "import scipy "
   ]
  },
  {
   "cell_type": "code",
   "execution_count": 3,
   "id": "601e53b7-a7ab-4848-a7cf-a1c34e13803b",
   "metadata": {},
   "outputs": [],
   "source": [
    "# Path Variable \n",
    "path = r'C:\\Users\\jmiel\\JENNY_STUFF\\MY_DOCS\\CareerFoundry\\Instacart Basket Analysis'\n",
    "\n",
    "# Import customer_ords_prods_merged dataframe\n",
    "customer_ords_prods = pd.read_pickle(os.path.join(path, '02 Data', 'Prepared Data', 'customer_ords_prods_merge.pkl'))"
   ]
  },
  {
   "cell_type": "code",
   "execution_count": 4,
   "id": "7a3bfa0b-9146-403e-90c1-e158e325cd4d",
   "metadata": {},
   "outputs": [],
   "source": [
    "# fixed spelling in number_of_dependents column\n",
    "customer_ords_prods.rename(columns = {'number_of_dependants': 'number_of_dependents'}, inplace = True)"
   ]
  },
  {
   "cell_type": "markdown",
   "id": "89bccf6c-4c0e-41cb-9b4b-3acb26aa530e",
   "metadata": {},
   "source": [
    "#### provide the Instacart senior stakeholders with descriptive findings about sales. Create a histogram of the “order_hour_of_day” column."
   ]
  },
  {
   "cell_type": "code",
   "execution_count": 6,
   "id": "ef05aa2e-cc53-41ae-918d-285125f3a0e5",
   "metadata": {},
   "outputs": [
    {
     "data": {
      "image/png": "[encoded data removed]",
      "text/plain": [
       "<Figure size 640x480 with 1 Axes>"
      ]
     },
     "metadata": {},
     "output_type": "display_data"
    }
   ],
   "source": [
    "hist = customer_ords_prods['order_hour_of_day'].plot.hist(bins = 24)"
   ]
  },
  {
   "cell_type": "markdown",
   "id": "013dce2a-cdd7-46d8-ac4c-01367e38e9a7",
   "metadata": {},
   "source": [
    "The historgram provides a visual of the average number of orders for each hour of the day. \n",
    "It appears as though the most orders occur in late morning / afternoon. "
   ]
  },
  {
   "cell_type": "markdown",
   "id": "4b08f8d7-5ae0-494b-8dc8-8b964326c990",
   "metadata": {},
   "source": [
    "#### The marketing team is curious about the distribution of orders among customers in terms of loyalty. Create a bar chart from the “loyalty_flag” column."
   ]
  },
  {
   "cell_type": "code",
   "execution_count": 9,
   "id": "16117e00-d263-46c4-9203-83cd83046371",
   "metadata": {},
   "outputs": [
    {
     "data": {
      "text/plain": [
       "(array([0, 1, 2]),\n",
       " [Text(0, 0, 'Regular customer'),\n",
       "  Text(1, 0, 'Loyal customer'),\n",
       "  Text(2, 0, 'New customer')])"
      ]
     },
     "execution_count": 9,
     "metadata": {},
     "output_type": "execute_result"
    },
    {
     "data": {
      "image/png": "[encoded data removed]",
      "text/plain": [
       "<Figure size 640x480 with 1 Axes>"
      ]
     },
     "metadata": {},
     "output_type": "display_data"
    }
   ],
   "source": [
    "bar = customer_ords_prods['loyalty_flag'].value_counts().plot.bar()\n",
    "plt.xticks(rotation=0)"
   ]
  },
  {
   "cell_type": "markdown",
   "id": "21f41f55-0633-4f07-9ff1-ea95b74ea83b",
   "metadata": {},
   "source": [
    "#### Check whether there’s a difference in expenditure (the “prices” column) depending on the hour of the day. (Hint: To check this, you need to use an accurate sample for your line chart!)\r\n"
   ]
  },
  {
   "cell_type": "code",
   "execution_count": 11,
   "id": "0bd2f777-9117-4dee-b84b-fc87f17bee2a",
   "metadata": {},
   "outputs": [],
   "source": [
    "# Create a sample of the data by generating a seed and a dev list with a 70/30 splt\n",
    "np.random.seed(4)\n",
    "dev = np.random.rand(len(customer_ords_prods)) <= 0.7"
   ]
  },
  {
   "cell_type": "code",
   "execution_count": 12,
   "id": "2cd9ecf3-e332-4cbe-abac-ab7d1da5edef",
   "metadata": {},
   "outputs": [],
   "source": [
    "# store 70 % of the sample in the dataframe big \n",
    "big = customer_ords_prods[dev]"
   ]
  },
  {
   "cell_type": "code",
   "execution_count": 13,
   "id": "e0282fd2-15f8-4046-a3bd-495e91952338",
   "metadata": {},
   "outputs": [],
   "source": [
    "# store 30% of the sample in the dataframe small\n",
    "small = customer_ords_prods[~dev]"
   ]
  },
  {
   "cell_type": "code",
   "execution_count": 14,
   "id": "02e32b76-b787-43c4-8e2a-37a3bbe3ea53",
   "metadata": {},
   "outputs": [
    {
     "data": {
      "text/plain": [
       "32404859"
      ]
     },
     "execution_count": 14,
     "metadata": {},
     "output_type": "execute_result"
    }
   ],
   "source": [
    "# Check results \n",
    "len(customer_ords_prods)"
   ]
  },
  {
   "cell_type": "code",
   "execution_count": 15,
   "id": "69f4cf41-4903-4e4a-b680-660ce974719f",
   "metadata": {},
   "outputs": [
    {
     "data": {
      "text/plain": [
       "32404859"
      ]
     },
     "execution_count": 15,
     "metadata": {},
     "output_type": "execute_result"
    }
   ],
   "source": [
    "# Check to see if sample subsets add up to total of original data above \n",
    "len(big) + len(small)"
   ]
  },
  {
   "cell_type": "code",
   "execution_count": 16,
   "id": "59e1acee-fb2e-4538-a3ae-39789808492d",
   "metadata": {},
   "outputs": [],
   "source": [
    "# reduce sample to only columns that are necessary \n",
    "customer_ords_prods_2 = small[['order_hour_of_day', 'prices']]"
   ]
  },
  {
   "cell_type": "code",
   "execution_count": 17,
   "id": "d35d4e8a-a274-48d2-a48b-811e52ab4db9",
   "metadata": {},
   "outputs": [
    {
     "data": {
      "text/html": [
       "<div>\n",
       "<style scoped>\n",
       "    .dataframe tbody tr th:only-of-type {\n",
       "        vertical-align: middle;\n",
       "    }\n",
       "\n",
       "    .dataframe tbody tr th {\n",
       "        vertical-align: top;\n",
       "    }\n",
       "\n",
       "    .dataframe thead th {\n",
       "        text-align: right;\n",
       "    }\n",
       "</style>\n",
       "<table border=\"1\" class=\"dataframe\">\n",
       "  <thead>\n",
       "    <tr style=\"text-align: right;\">\n",
       "      <th></th>\n",
       "      <th>order_hour_of_day</th>\n",
       "      <th>prices</th>\n",
       "    </tr>\n",
       "  </thead>\n",
       "  <tbody>\n",
       "    <tr>\n",
       "      <th>0</th>\n",
       "      <td>8</td>\n",
       "      <td>9.0</td>\n",
       "    </tr>\n",
       "    <tr>\n",
       "      <th>2</th>\n",
       "      <td>8</td>\n",
       "      <td>4.4</td>\n",
       "    </tr>\n",
       "    <tr>\n",
       "      <th>3</th>\n",
       "      <td>8</td>\n",
       "      <td>4.7</td>\n",
       "    </tr>\n",
       "    <tr>\n",
       "      <th>6</th>\n",
       "      <td>7</td>\n",
       "      <td>3.0</td>\n",
       "    </tr>\n",
       "    <tr>\n",
       "      <th>10</th>\n",
       "      <td>7</td>\n",
       "      <td>4.0</td>\n",
       "    </tr>\n",
       "    <tr>\n",
       "      <th>12</th>\n",
       "      <td>12</td>\n",
       "      <td>4.4</td>\n",
       "    </tr>\n",
       "    <tr>\n",
       "      <th>13</th>\n",
       "      <td>12</td>\n",
       "      <td>3.0</td>\n",
       "    </tr>\n",
       "    <tr>\n",
       "      <th>19</th>\n",
       "      <td>7</td>\n",
       "      <td>8.6</td>\n",
       "    </tr>\n",
       "    <tr>\n",
       "      <th>21</th>\n",
       "      <td>15</td>\n",
       "      <td>9.0</td>\n",
       "    </tr>\n",
       "    <tr>\n",
       "      <th>22</th>\n",
       "      <td>15</td>\n",
       "      <td>4.4</td>\n",
       "    </tr>\n",
       "  </tbody>\n",
       "</table>\n",
       "</div>"
      ],
      "text/plain": [
       "    order_hour_of_day  prices\n",
       "0                   8     9.0\n",
       "2                   8     4.4\n",
       "3                   8     4.7\n",
       "6                   7     3.0\n",
       "10                  7     4.0\n",
       "12                 12     4.4\n",
       "13                 12     3.0\n",
       "19                  7     8.6\n",
       "21                 15     9.0\n",
       "22                 15     4.4"
      ]
     },
     "execution_count": 17,
     "metadata": {},
     "output_type": "execute_result"
    }
   ],
   "source": [
    "# Verify output \n",
    "customer_ords_prods_2.head(10)"
   ]
  },
  {
   "cell_type": "code",
   "execution_count": 18,
   "id": "a74bdd7e-b227-4856-98ee-1c4515089457",
   "metadata": {},
   "outputs": [
    {
     "ename": "TypeError",
     "evalue": "unsupported operand type(s) for +: 'int' and 'str'",
     "output_type": "error",
     "traceback": [
      "\u001b[1;31m---------------------------------------------------------------------------\u001b[0m",
      "\u001b[1;31mTypeError\u001b[0m                                 Traceback (most recent call last)",
      "Cell \u001b[1;32mIn[18], line 2\u001b[0m\n\u001b[0;32m      1\u001b[0m \u001b[38;5;66;03m# create line chart\u001b[39;00m\n\u001b[1;32m----> 2\u001b[0m line \u001b[38;5;241m=\u001b[39m sns\u001b[38;5;241m.\u001b[39mlineplot(data \u001b[38;5;241m=\u001b[39m customer_ords_prods_2, x \u001b[38;5;241m=\u001b[39m \u001b[38;5;124m'\u001b[39m\u001b[38;5;124morder_hour_of_day\u001b[39m\u001b[38;5;124m'\u001b[39m, y \u001b[38;5;241m=\u001b[39m \u001b[38;5;28msum\u001b[39m(\u001b[38;5;124m'\u001b[39m\u001b[38;5;124mprices\u001b[39m\u001b[38;5;124m'\u001b[39m))\n",
      "\u001b[1;31mTypeError\u001b[0m: unsupported operand type(s) for +: 'int' and 'str'"
     ]
    }
   ],
   "source": [
    "# create line chart\n",
    "line = sns.lineplot(data = customer_ords_prods_2, x = 'order_hour_of_day', y = sum'prices'))"
   ]
  },
  {
   "cell_type": "markdown",
   "id": "b0658f2f-d0bf-4497-a5aa-1e2661738f67",
   "metadata": {},
   "source": [
    "#### Now that you have information about customers, you need to conduct some exploratory analysis of customer demographics to inform the targeted marketing campaigns. First, determine whether there’s a connection between age and family situation by creating a line chart exploring the connections between age and number of dependents"
   ]
  },
  {
   "cell_type": "code",
   "execution_count": null,
   "id": "bb1a1709-06fb-4f58-9344-39662c2aaace",
   "metadata": {},
   "outputs": [],
   "source": [
    "# reduce sample size to include the age and number_of_dependents columns\n",
    "customer_ords_prods_3 = small [['age', 'number_of_dependents']]"
   ]
  },
  {
   "cell_type": "code",
   "execution_count": null,
   "id": "e33bfed0-bd61-441b-97f1-25c81437733f",
   "metadata": {},
   "outputs": [],
   "source": [
    "# verify results of subset \n",
    "customer_ords_prods_3.head()"
   ]
  },
  {
   "cell_type": "code",
   "execution_count": null,
   "id": "5f0136c6-fe76-499e-83fe-f77afc61c290",
   "metadata": {},
   "outputs": [],
   "source": [
    "line_2 = sns.lineplot(data= customer_ords_prods_3, x = 'age', y = 'number_of_dependents')"
   ]
  },
  {
   "cell_type": "markdown",
   "id": "077e6cf4-209e-412d-b0de-095f746b0d82",
   "metadata": {},
   "source": [
    "The line chart does not incidate any kind of trend with age and the number of dependents."
   ]
  },
  {
   "cell_type": "markdown",
   "id": "74081ff2-7d70-4a53-8c9d-5f59c3117a23",
   "metadata": {},
   "source": [
    "#### You’ll also need to explore whether there’s a connection between age and spending power (income). To visualize this relationship, create a scatterplot using the sns.scatterplot() function."
   ]
  },
  {
   "cell_type": "code",
   "execution_count": null,
   "id": "7701897a-c6ae-4556-9828-8e23622ca439",
   "metadata": {},
   "outputs": [],
   "source": [
    "# Create a smaller sample size using necessary columns\n",
    "customer_ords_prods_4 = small[['age', 'income']]"
   ]
  },
  {
   "cell_type": "code",
   "execution_count": null,
   "id": "5f227998-4458-4207-8c40-48285e451b76",
   "metadata": {},
   "outputs": [],
   "source": [
    "# Verify results \n",
    "customer_ords_prods_4.head()"
   ]
  },
  {
   "cell_type": "code",
   "execution_count": null,
   "id": "86529006-fdf0-4774-9cd8-945b48a45196",
   "metadata": {},
   "outputs": [],
   "source": [
    "scatterplot = sns.scatterplot(x = 'age', y = 'income',data = customer_ords_prods_4)"
   ]
  },
  {
   "cell_type": "markdown",
   "id": "7f9a1f6f-60a7-4814-98c2-4c5e0cbc7689",
   "metadata": {},
   "source": [
    "Across all age groups, a majority of individuals have similar incomes. However, as one gets older there is a better chance of a higher income."
   ]
  },
  {
   "cell_type": "markdown",
   "id": "2f1e89a6-d66f-4899-b00a-fed770a870a9",
   "metadata": {},
   "source": [
    "# Export visualizations"
   ]
  },
  {
   "cell_type": "code",
   "execution_count": null,
   "id": "b59c4c99-6e95-47dc-8544-4e395eab3cb6",
   "metadata": {},
   "outputs": [],
   "source": [
    "hist.figure.savefig(os.path.join(path, '04 Analysis','Visualizations', 'hist_order_hour_of_day_frequency.png'))"
   ]
  },
  {
   "cell_type": "code",
   "execution_count": null,
   "id": "772a0535-8da5-4a8f-bc02-cbdf7bff0f16",
   "metadata": {},
   "outputs": [],
   "source": [
    "bar.figure.savefig(os.path.join(path, '04 Analysis','Visualizations', 'loyalty_flag_distribution.png'))"
   ]
  },
  {
   "cell_type": "code",
   "execution_count": null,
   "id": "ddacd61e-3d48-4d86-a5ea-bb8c729263af",
   "metadata": {},
   "outputs": [],
   "source": [
    "line.figure.savefig(os.path.join(path, '04 Analysis','Visualizations', 'change_in_price_over_hours_of_the_day.png'))"
   ]
  },
  {
   "cell_type": "code",
   "execution_count": null,
   "id": "34c84932-7762-4cf3-81a3-a79584ac3147",
   "metadata": {},
   "outputs": [],
   "source": [
    "line_2.figure.savefig(os.path.join(path, '04 Analysis','Visualizations', 'age_compared_to_number_of_dependents.png'))"
   ]
  },
  {
   "cell_type": "code",
   "execution_count": null,
   "id": "9423ced8-5afe-462f-8c05-ac0fe4a6e23b",
   "metadata": {},
   "outputs": [],
   "source": [
    "scatterplot.figure.savefig(os.path.join(path, '04 Analysis','Visualizations', 'age_compared_to_income.png'))"
   ]
  },
  {
   "cell_type": "code",
   "execution_count": null,
   "id": "58c9676e-16d3-42ea-b70e-058295d161bc",
   "metadata": {},
   "outputs": [],
   "source": []
  }
 ],
 "metadata": {
  "kernelspec": {
   "display_name": "Python 3 (ipykernel)",
   "language": "python",
   "name": "python3"
  },
  "language_info": {
   "codemirror_mode": {
    "name": "ipython",
    "version": 3
   },
   "file_extension": ".py",
   "mimetype": "text/x-python",
   "name": "python",
   "nbconvert_exporter": "python",
   "pygments_lexer": "ipython3",
   "version": "3.11.7"
  }
 },
 "nbformat": 4,
 "nbformat_minor": 5
}
